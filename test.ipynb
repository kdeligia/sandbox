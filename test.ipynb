{
 "cells": [
  {
   "cell_type": "code",
   "execution_count": null,
   "metadata": {},
   "outputs": [],
   "source": [
    "from dataclasses import dataclass\n",
    "from pathlib import Path\n",
    "from typing import Any\n",
    "from __future__ import annotations\n",
    "\n",
    "\n",
    "\n",
    "@dataclass \n",
    "class Handler:\n",
    "    storage: dict[str, list[str]] | dict[str, dict[str, dict[str , Path]]]\n",
    "    handle_with_initial: bool = False\n",
    "\n",
    "    @property\n",
    "    def handle(self) -> dict[str, dict[str, dict]]:\n",
    "        if self.handle_with_initial:\n",
    "            return self.storage\n",
    "        if not hasattr(self, '_storage'):\n",
    "            self._storage = self._prepare()\n",
    "        return self._storage\n",
    "\n",
    "    def _prepare(self) -> dict[str, dict[dict, Any]]:\n",
    "        prepared = {}\n",
    "        for cover, subcovers in self.storage.items():\n",
    "            prepared[cover] = {}\n",
    "            for subcover in subcovers:\n",
    "                prepared[cover][subcover] = {}\n",
    "        return prepared\n",
    "\n",
    "    def update(self, update: dict[str, Path], target_level: str) -> Handler:\n",
    "        for cover, subcovers in self.handle.items():\n",
    "            if target_level in subcovers.keys():\n",
    "                self.handle[cover][target_level] = update\n",
    "        return Handler(self.handle, handle_with_initial=True)\n",
    "\n",
    "    def view(self) -> dict[str, dict[str, dict[str , Path]]]:\n",
    "        return self.handle\n"
   ]
  },
  {
   "cell_type": "code",
   "execution_count": null,
   "metadata": {},
   "outputs": [],
   "source": [
    "COVERS =  {\"Burkina Faso Crop\": [\n",
    "        \"Burkina Faso Sorgho\",\n",
    "        \"Burkina Faso Mil\",\n",
    "        \"Burkina Faso Mais\",\n",
    "    ],\n",
    "    \"Tchad Crop\": [\"Tchad Mais\", \"Tchad Mil\", \"Tchad Sorgho\"],\n",
    "    \"Gambia\": [\"Gambia\"]}\n",
    "\n",
    "update1 = {\"obs1\": Path(\"p1\"), \"obs2\": Path(\"p2\")}\n",
    "update2 = {\"obs3\": Path(\"p3\"), \"obs4\": Path(\"p4\")}\n",
    "\n",
    "h = Handler(COVERS)\n",
    "\n",
    "r = h.update(update1, \"Tchad Mais\")\n",
    "rr = r.update(update2, \"Burkina Faso Mais\")\n",
    "\n",
    "rr.view()"
   ]
  }
 ],
 "metadata": {
  "kernelspec": {
   "display_name": "fun",
   "language": "python",
   "name": "python3"
  },
  "language_info": {
   "codemirror_mode": {
    "name": "ipython",
    "version": 3
   },
   "file_extension": ".py",
   "mimetype": "text/x-python",
   "name": "python",
   "nbconvert_exporter": "python",
   "pygments_lexer": "ipython3",
   "version": "3.11.7"
  }
 },
 "nbformat": 4,
 "nbformat_minor": 2
}
